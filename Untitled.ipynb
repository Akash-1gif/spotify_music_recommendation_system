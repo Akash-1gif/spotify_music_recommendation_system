{
 "cells": [
  {
   "cell_type": "markdown",
   "id": "8d5f9763-156f-4cd5-87da-0f881f9a9b5a",
   "metadata": {},
   "source": [
    "##### importing essential libraries:"
   ]
  },
  {
   "cell_type": "code",
   "execution_count": 1,
   "id": "acd590b6-245a-4165-9df9-468c291fdd78",
   "metadata": {},
   "outputs": [],
   "source": [
    "import numpy as np\n",
    "import pandas as pd\n",
    "import matplotlib.pyplot as plt\n",
    "import seaborn as sns\n",
    "%matplotlib inline\n",
    "plt.style.use('dark_background')"
   ]
  },
  {
   "cell_type": "markdown",
   "id": "f00d3e57-8476-40ac-b4d6-0182f5356785",
   "metadata": {},
   "source": [
    "##### fetching data:"
   ]
  },
  {
   "cell_type": "code",
   "execution_count": 2,
   "id": "0939dd0e-9f4e-44c9-8b61-1887432e2ea9",
   "metadata": {},
   "outputs": [
    {
     "data": {
      "text/html": [
       "<div>\n",
       "<style scoped>\n",
       "    .dataframe tbody tr th:only-of-type {\n",
       "        vertical-align: middle;\n",
       "    }\n",
       "\n",
       "    .dataframe tbody tr th {\n",
       "        vertical-align: top;\n",
       "    }\n",
       "\n",
       "    .dataframe thead th {\n",
       "        text-align: right;\n",
       "    }\n",
       "</style>\n",
       "<table border=\"1\" class=\"dataframe\">\n",
       "  <thead>\n",
       "    <tr style=\"text-align: right;\">\n",
       "      <th></th>\n",
       "      <th>track_name</th>\n",
       "      <th>popularity</th>\n",
       "      <th>danceability</th>\n",
       "      <th>energy</th>\n",
       "      <th>loudness</th>\n",
       "      <th>speechiness</th>\n",
       "      <th>acousticness</th>\n",
       "      <th>instrumentalness</th>\n",
       "      <th>liveness</th>\n",
       "      <th>valence</th>\n",
       "      <th>tempo</th>\n",
       "      <th>track_genre</th>\n",
       "      <th>track_id</th>\n",
       "      <th>track_genre_num</th>\n",
       "    </tr>\n",
       "  </thead>\n",
       "  <tbody>\n",
       "    <tr>\n",
       "      <th>0</th>\n",
       "      <td>I See Red - 0</td>\n",
       "      <td>77.0</td>\n",
       "      <td>52.205128</td>\n",
       "      <td>44.930905</td>\n",
       "      <td>80.496067</td>\n",
       "      <td>3.863636</td>\n",
       "      <td>0.714837</td>\n",
       "      <td>1.395112</td>\n",
       "      <td>23.511294</td>\n",
       "      <td>22.233400</td>\n",
       "      <td>64.472906</td>\n",
       "      <td>blues</td>\n",
       "      <td>0</td>\n",
       "      <td>0.0</td>\n",
       "    </tr>\n",
       "    <tr>\n",
       "      <th>1</th>\n",
       "      <td>Cigarette Daydreams - 1</td>\n",
       "      <td>79.0</td>\n",
       "      <td>65.230769</td>\n",
       "      <td>67.801130</td>\n",
       "      <td>90.232635</td>\n",
       "      <td>2.846320</td>\n",
       "      <td>8.101459</td>\n",
       "      <td>0.000000</td>\n",
       "      <td>6.991786</td>\n",
       "      <td>27.464789</td>\n",
       "      <td>46.833654</td>\n",
       "      <td>blues</td>\n",
       "      <td>1</td>\n",
       "      <td>0.0</td>\n",
       "    </tr>\n",
       "    <tr>\n",
       "      <th>2</th>\n",
       "      <td>Play with Fire (feat. Yacht Money) - 2</td>\n",
       "      <td>76.0</td>\n",
       "      <td>58.769231</td>\n",
       "      <td>54.058933</td>\n",
       "      <td>83.957169</td>\n",
       "      <td>3.484848</td>\n",
       "      <td>1.625489</td>\n",
       "      <td>0.001181</td>\n",
       "      <td>9.240246</td>\n",
       "      <td>39.235412</td>\n",
       "      <td>30.821952</td>\n",
       "      <td>blues</td>\n",
       "      <td>2</td>\n",
       "      <td>0.0</td>\n",
       "    </tr>\n",
       "    <tr>\n",
       "      <th>3</th>\n",
       "      <td>Seven Nation Army - 3</td>\n",
       "      <td>84.0</td>\n",
       "      <td>76.205128</td>\n",
       "      <td>44.730289</td>\n",
       "      <td>79.891974</td>\n",
       "      <td>7.391775</td>\n",
       "      <td>0.390536</td>\n",
       "      <td>12.016293</td>\n",
       "      <td>33.059548</td>\n",
       "      <td>27.967807</td>\n",
       "      <td>50.784807</td>\n",
       "      <td>blues</td>\n",
       "      <td>3</td>\n",
       "      <td>0.0</td>\n",
       "    </tr>\n",
       "    <tr>\n",
       "      <th>4</th>\n",
       "      <td>Wonderful Tonight - 4</td>\n",
       "      <td>76.0</td>\n",
       "      <td>58.666667</td>\n",
       "      <td>21.458831</td>\n",
       "      <td>61.371174</td>\n",
       "      <td>3.170996</td>\n",
       "      <td>65.160282</td>\n",
       "      <td>13.136456</td>\n",
       "      <td>11.293634</td>\n",
       "      <td>48.792757</td>\n",
       "      <td>39.257597</td>\n",
       "      <td>blues</td>\n",
       "      <td>4</td>\n",
       "      <td>0.0</td>\n",
       "    </tr>\n",
       "  </tbody>\n",
       "</table>\n",
       "</div>"
      ],
      "text/plain": [
       "                               track_name  popularity  danceability  \\\n",
       "0                           I See Red - 0        77.0     52.205128   \n",
       "1                 Cigarette Daydreams - 1        79.0     65.230769   \n",
       "2  Play with Fire (feat. Yacht Money) - 2        76.0     58.769231   \n",
       "3                   Seven Nation Army - 3        84.0     76.205128   \n",
       "4                   Wonderful Tonight - 4        76.0     58.666667   \n",
       "\n",
       "      energy   loudness  speechiness  acousticness  instrumentalness  \\\n",
       "0  44.930905  80.496067     3.863636      0.714837          1.395112   \n",
       "1  67.801130  90.232635     2.846320      8.101459          0.000000   \n",
       "2  54.058933  83.957169     3.484848      1.625489          0.001181   \n",
       "3  44.730289  79.891974     7.391775      0.390536         12.016293   \n",
       "4  21.458831  61.371174     3.170996     65.160282         13.136456   \n",
       "\n",
       "    liveness    valence      tempo track_genre  track_id  track_genre_num  \n",
       "0  23.511294  22.233400  64.472906       blues         0              0.0  \n",
       "1   6.991786  27.464789  46.833654       blues         1              0.0  \n",
       "2   9.240246  39.235412  30.821952       blues         2              0.0  \n",
       "3  33.059548  27.967807  50.784807       blues         3              0.0  \n",
       "4  11.293634  48.792757  39.257597       blues         4              0.0  "
      ]
     },
     "execution_count": 2,
     "metadata": {},
     "output_type": "execute_result"
    }
   ],
   "source": [
    "import joblib\n",
    "df=pd.read_pickle('artifacts/unlabelled_dataframe.pkl')\n",
    "df.head()"
   ]
  },
  {
   "cell_type": "markdown",
   "id": "c979ba07-b68d-4196-b7bc-9eb0b2b1464c",
   "metadata": {},
   "source": [
    "### Step 2: Clustering of Data Points/Cluster Analysis and Defining target variables/outputs of our Machine Learning Models:"
   ]
  },
  {
   "cell_type": "markdown",
   "id": "a467491c-1e26-448a-afde-18c54fc8ea52",
   "metadata": {},
   "source": [
    "#### Step 2.1: Data preparation for Cluster Analysis:"
   ]
  },
  {
   "cell_type": "code",
   "execution_count": 3,
   "id": "8e71bfc1-b181-4d56-b0fc-d19a0772fc27",
   "metadata": {},
   "outputs": [
    {
     "data": {
      "text/html": [
       "<div>\n",
       "<style scoped>\n",
       "    .dataframe tbody tr th:only-of-type {\n",
       "        vertical-align: middle;\n",
       "    }\n",
       "\n",
       "    .dataframe tbody tr th {\n",
       "        vertical-align: top;\n",
       "    }\n",
       "\n",
       "    .dataframe thead th {\n",
       "        text-align: right;\n",
       "    }\n",
       "</style>\n",
       "<table border=\"1\" class=\"dataframe\">\n",
       "  <thead>\n",
       "    <tr style=\"text-align: right;\">\n",
       "      <th></th>\n",
       "      <th>popularity</th>\n",
       "      <th>danceability</th>\n",
       "      <th>energy</th>\n",
       "      <th>loudness</th>\n",
       "      <th>speechiness</th>\n",
       "      <th>acousticness</th>\n",
       "      <th>instrumentalness</th>\n",
       "      <th>liveness</th>\n",
       "      <th>valence</th>\n",
       "      <th>tempo</th>\n",
       "      <th>track_genre_num</th>\n",
       "    </tr>\n",
       "  </thead>\n",
       "  <tbody>\n",
       "    <tr>\n",
       "      <th>0</th>\n",
       "      <td>77.0</td>\n",
       "      <td>52.205128</td>\n",
       "      <td>44.930905</td>\n",
       "      <td>80.496067</td>\n",
       "      <td>3.863636</td>\n",
       "      <td>0.714837</td>\n",
       "      <td>1.395112</td>\n",
       "      <td>23.511294</td>\n",
       "      <td>22.233400</td>\n",
       "      <td>64.472906</td>\n",
       "      <td>0.0</td>\n",
       "    </tr>\n",
       "    <tr>\n",
       "      <th>1</th>\n",
       "      <td>79.0</td>\n",
       "      <td>65.230769</td>\n",
       "      <td>67.801130</td>\n",
       "      <td>90.232635</td>\n",
       "      <td>2.846320</td>\n",
       "      <td>8.101459</td>\n",
       "      <td>0.000000</td>\n",
       "      <td>6.991786</td>\n",
       "      <td>27.464789</td>\n",
       "      <td>46.833654</td>\n",
       "      <td>0.0</td>\n",
       "    </tr>\n",
       "    <tr>\n",
       "      <th>2</th>\n",
       "      <td>76.0</td>\n",
       "      <td>58.769231</td>\n",
       "      <td>54.058933</td>\n",
       "      <td>83.957169</td>\n",
       "      <td>3.484848</td>\n",
       "      <td>1.625489</td>\n",
       "      <td>0.001181</td>\n",
       "      <td>9.240246</td>\n",
       "      <td>39.235412</td>\n",
       "      <td>30.821952</td>\n",
       "      <td>0.0</td>\n",
       "    </tr>\n",
       "    <tr>\n",
       "      <th>3</th>\n",
       "      <td>84.0</td>\n",
       "      <td>76.205128</td>\n",
       "      <td>44.730289</td>\n",
       "      <td>79.891974</td>\n",
       "      <td>7.391775</td>\n",
       "      <td>0.390536</td>\n",
       "      <td>12.016293</td>\n",
       "      <td>33.059548</td>\n",
       "      <td>27.967807</td>\n",
       "      <td>50.784807</td>\n",
       "      <td>0.0</td>\n",
       "    </tr>\n",
       "    <tr>\n",
       "      <th>4</th>\n",
       "      <td>76.0</td>\n",
       "      <td>58.666667</td>\n",
       "      <td>21.458831</td>\n",
       "      <td>61.371174</td>\n",
       "      <td>3.170996</td>\n",
       "      <td>65.160282</td>\n",
       "      <td>13.136456</td>\n",
       "      <td>11.293634</td>\n",
       "      <td>48.792757</td>\n",
       "      <td>39.257597</td>\n",
       "      <td>0.0</td>\n",
       "    </tr>\n",
       "  </tbody>\n",
       "</table>\n",
       "</div>"
      ],
      "text/plain": [
       "   popularity  danceability     energy   loudness  speechiness  acousticness  \\\n",
       "0        77.0     52.205128  44.930905  80.496067     3.863636      0.714837   \n",
       "1        79.0     65.230769  67.801130  90.232635     2.846320      8.101459   \n",
       "2        76.0     58.769231  54.058933  83.957169     3.484848      1.625489   \n",
       "3        84.0     76.205128  44.730289  79.891974     7.391775      0.390536   \n",
       "4        76.0     58.666667  21.458831  61.371174     3.170996     65.160282   \n",
       "\n",
       "   instrumentalness   liveness    valence      tempo  track_genre_num  \n",
       "0          1.395112  23.511294  22.233400  64.472906              0.0  \n",
       "1          0.000000   6.991786  27.464789  46.833654              0.0  \n",
       "2          0.001181   9.240246  39.235412  30.821952              0.0  \n",
       "3         12.016293  33.059548  27.967807  50.784807              0.0  \n",
       "4         13.136456  11.293634  48.792757  39.257597              0.0  "
      ]
     },
     "execution_count": 3,
     "metadata": {},
     "output_type": "execute_result"
    }
   ],
   "source": [
    "df_train=df.drop(['track_id','track_name','track_genre'],axis=1)\n",
    "df_train.head()"
   ]
  },
  {
   "cell_type": "markdown",
   "id": "c548f4f5-5986-410c-b2c2-d41aaa2172d9",
   "metadata": {},
   "source": [
    "The dataframe above will be used for Cluster ANalysis"
   ]
  },
  {
   "cell_type": "code",
   "execution_count": 4,
   "id": "4eba4ad3-c65f-4c61-bce7-6eb21d4891e6",
   "metadata": {},
   "outputs": [
    {
     "data": {
      "text/html": [
       "<div>\n",
       "<style scoped>\n",
       "    .dataframe tbody tr th:only-of-type {\n",
       "        vertical-align: middle;\n",
       "    }\n",
       "\n",
       "    .dataframe tbody tr th {\n",
       "        vertical-align: top;\n",
       "    }\n",
       "\n",
       "    .dataframe thead th {\n",
       "        text-align: right;\n",
       "    }\n",
       "</style>\n",
       "<table border=\"1\" class=\"dataframe\">\n",
       "  <thead>\n",
       "    <tr style=\"text-align: right;\">\n",
       "      <th></th>\n",
       "      <th>track_id</th>\n",
       "      <th>track_name</th>\n",
       "      <th>track_genre</th>\n",
       "    </tr>\n",
       "  </thead>\n",
       "  <tbody>\n",
       "    <tr>\n",
       "      <th>0</th>\n",
       "      <td>0</td>\n",
       "      <td>I See Red - 0</td>\n",
       "      <td>blues</td>\n",
       "    </tr>\n",
       "    <tr>\n",
       "      <th>1</th>\n",
       "      <td>1</td>\n",
       "      <td>Cigarette Daydreams - 1</td>\n",
       "      <td>blues</td>\n",
       "    </tr>\n",
       "    <tr>\n",
       "      <th>2</th>\n",
       "      <td>2</td>\n",
       "      <td>Play with Fire (feat. Yacht Money) - 2</td>\n",
       "      <td>blues</td>\n",
       "    </tr>\n",
       "    <tr>\n",
       "      <th>3</th>\n",
       "      <td>3</td>\n",
       "      <td>Seven Nation Army - 3</td>\n",
       "      <td>blues</td>\n",
       "    </tr>\n",
       "    <tr>\n",
       "      <th>4</th>\n",
       "      <td>4</td>\n",
       "      <td>Wonderful Tonight - 4</td>\n",
       "      <td>blues</td>\n",
       "    </tr>\n",
       "  </tbody>\n",
       "</table>\n",
       "</div>"
      ],
      "text/plain": [
       "   track_id                              track_name track_genre\n",
       "0         0                           I See Red - 0       blues\n",
       "1         1                 Cigarette Daydreams - 1       blues\n",
       "2         2  Play with Fire (feat. Yacht Money) - 2       blues\n",
       "3         3                   Seven Nation Army - 3       blues\n",
       "4         4                   Wonderful Tonight - 4       blues"
      ]
     },
     "execution_count": 4,
     "metadata": {},
     "output_type": "execute_result"
    }
   ],
   "source": [
    "df_meta=df[['track_id','track_name','track_genre']]\n",
    "df_meta.head()"
   ]
  },
  {
   "cell_type": "code",
   "execution_count": 5,
   "id": "4b9f4d4b-aa86-4320-9f6d-00525ea96338",
   "metadata": {},
   "outputs": [
    {
     "data": {
      "text/plain": [
       "(10000, 3)"
      ]
     },
     "execution_count": 5,
     "metadata": {},
     "output_type": "execute_result"
    }
   ],
   "source": [
    "df_meta.shape"
   ]
  },
  {
   "cell_type": "code",
   "execution_count": 6,
   "id": "9e1cffa0-20a2-48b2-941a-0da35ff7696b",
   "metadata": {},
   "outputs": [
    {
     "data": {
      "text/plain": [
       "(10000, 11)"
      ]
     },
     "execution_count": 6,
     "metadata": {},
     "output_type": "execute_result"
    }
   ],
   "source": [
    "df_train.shape"
   ]
  },
  {
   "cell_type": "markdown",
   "id": "34dcda73-afaf-49d8-9f5b-489f2dd14601",
   "metadata": {},
   "source": [
    "#### Step 2.2: Using unsupervised learning model to group tracks under 40 to 50 clusters:"
   ]
  },
  {
   "cell_type": "markdown",
   "id": "84190909-9153-4c2a-bba0-d30818040036",
   "metadata": {},
   "source": [
    "##### Executing KMeans clustering algorithm:"
   ]
  },
  {
   "cell_type": "code",
   "execution_count": 7,
   "id": "a115e677-a61e-405f-a157-f8d91b2537e2",
   "metadata": {},
   "outputs": [],
   "source": [
    "from sklearn.cluster import KMeans"
   ]
  },
  {
   "cell_type": "code",
   "execution_count": 8,
   "id": "623dcba6-e1f2-4b4c-ac54-6f34d06ef0ae",
   "metadata": {},
   "outputs": [
    {
     "name": "stderr",
     "output_type": "stream",
     "text": [
      "C:\\Users\\MYPC\\AppData\\Local\\Programs\\Python\\Python310\\lib\\site-packages\\sklearn\\cluster\\_kmeans.py:1416: FutureWarning: The default value of `n_init` will change from 10 to 'auto' in 1.4. Set the value of `n_init` explicitly to suppress the warning\n",
      "  super()._check_params_vs_input(X, default_n_init=10)\n",
      "C:\\Users\\MYPC\\AppData\\Local\\Programs\\Python\\Python310\\lib\\site-packages\\sklearn\\cluster\\_kmeans.py:1416: FutureWarning: The default value of `n_init` will change from 10 to 'auto' in 1.4. Set the value of `n_init` explicitly to suppress the warning\n",
      "  super()._check_params_vs_input(X, default_n_init=10)\n",
      "C:\\Users\\MYPC\\AppData\\Local\\Programs\\Python\\Python310\\lib\\site-packages\\sklearn\\cluster\\_kmeans.py:1416: FutureWarning: The default value of `n_init` will change from 10 to 'auto' in 1.4. Set the value of `n_init` explicitly to suppress the warning\n",
      "  super()._check_params_vs_input(X, default_n_init=10)\n",
      "C:\\Users\\MYPC\\AppData\\Local\\Programs\\Python\\Python310\\lib\\site-packages\\sklearn\\cluster\\_kmeans.py:1416: FutureWarning: The default value of `n_init` will change from 10 to 'auto' in 1.4. Set the value of `n_init` explicitly to suppress the warning\n",
      "  super()._check_params_vs_input(X, default_n_init=10)\n",
      "C:\\Users\\MYPC\\AppData\\Local\\Programs\\Python\\Python310\\lib\\site-packages\\sklearn\\cluster\\_kmeans.py:1416: FutureWarning: The default value of `n_init` will change from 10 to 'auto' in 1.4. Set the value of `n_init` explicitly to suppress the warning\n",
      "  super()._check_params_vs_input(X, default_n_init=10)\n",
      "C:\\Users\\MYPC\\AppData\\Local\\Programs\\Python\\Python310\\lib\\site-packages\\sklearn\\cluster\\_kmeans.py:1416: FutureWarning: The default value of `n_init` will change from 10 to 'auto' in 1.4. Set the value of `n_init` explicitly to suppress the warning\n",
      "  super()._check_params_vs_input(X, default_n_init=10)\n",
      "C:\\Users\\MYPC\\AppData\\Local\\Programs\\Python\\Python310\\lib\\site-packages\\sklearn\\cluster\\_kmeans.py:1416: FutureWarning: The default value of `n_init` will change from 10 to 'auto' in 1.4. Set the value of `n_init` explicitly to suppress the warning\n",
      "  super()._check_params_vs_input(X, default_n_init=10)\n",
      "C:\\Users\\MYPC\\AppData\\Local\\Programs\\Python\\Python310\\lib\\site-packages\\sklearn\\cluster\\_kmeans.py:1416: FutureWarning: The default value of `n_init` will change from 10 to 'auto' in 1.4. Set the value of `n_init` explicitly to suppress the warning\n",
      "  super()._check_params_vs_input(X, default_n_init=10)\n",
      "C:\\Users\\MYPC\\AppData\\Local\\Programs\\Python\\Python310\\lib\\site-packages\\sklearn\\cluster\\_kmeans.py:1416: FutureWarning: The default value of `n_init` will change from 10 to 'auto' in 1.4. Set the value of `n_init` explicitly to suppress the warning\n",
      "  super()._check_params_vs_input(X, default_n_init=10)\n",
      "C:\\Users\\MYPC\\AppData\\Local\\Programs\\Python\\Python310\\lib\\site-packages\\sklearn\\cluster\\_kmeans.py:1416: FutureWarning: The default value of `n_init` will change from 10 to 'auto' in 1.4. Set the value of `n_init` explicitly to suppress the warning\n",
      "  super()._check_params_vs_input(X, default_n_init=10)\n",
      "C:\\Users\\MYPC\\AppData\\Local\\Programs\\Python\\Python310\\lib\\site-packages\\sklearn\\cluster\\_kmeans.py:1416: FutureWarning: The default value of `n_init` will change from 10 to 'auto' in 1.4. Set the value of `n_init` explicitly to suppress the warning\n",
      "  super()._check_params_vs_input(X, default_n_init=10)\n"
     ]
    }
   ],
   "source": [
    "wcss=[]\n",
    "# wcss: the sum of the variance between the observations in each cluster\n",
    "for k in range(40,51):\n",
    "    kmeans=KMeans(n_clusters=k,init='k-means++')\n",
    "    kmeans.fit(df_train)\n",
    "    wcss.append(kmeans.inertia_)"
   ]
  },
  {
   "cell_type": "markdown",
   "id": "a50698ca-94b3-4e33-9c95-4d37c156f2dd",
   "metadata": {},
   "source": [
    "##### Checking WCSS values:"
   ]
  },
  {
   "cell_type": "code",
   "execution_count": 9,
   "id": "1d29d57e-073b-4117-8972-c83f0911d9df",
   "metadata": {},
   "outputs": [
    {
     "data": {
      "text/plain": [
       "[12612885.202565407,\n",
       " 12483812.665255342,\n",
       " 12338688.623121213,\n",
       " 12285391.687698688,\n",
       " 12194794.67933161,\n",
       " 12065322.084354827,\n",
       " 11991812.075488709,\n",
       " 11932216.944066798,\n",
       " 11734204.390315749,\n",
       " 11755608.454187289,\n",
       " 11649718.988839805]"
      ]
     },
     "execution_count": 9,
     "metadata": {},
     "output_type": "execute_result"
    }
   ],
   "source": [
    "wcss"
   ]
  },
  {
   "cell_type": "markdown",
   "id": "e62942b3-13d3-4489-9e7f-176ace55c6e9",
   "metadata": {},
   "source": [
    "#### Step 2.3: Evaluating the best number of clusters using silhouette scoring technique:"
   ]
  },
  {
   "cell_type": "code",
   "execution_count": 10,
   "id": "c2e49bc2-8c9c-41b6-8f77-1c71ae84fd60",
   "metadata": {},
   "outputs": [
    {
     "name": "stderr",
     "output_type": "stream",
     "text": [
      "C:\\Users\\MYPC\\AppData\\Local\\Programs\\Python\\Python310\\lib\\site-packages\\sklearn\\cluster\\_kmeans.py:1416: FutureWarning: The default value of `n_init` will change from 10 to 'auto' in 1.4. Set the value of `n_init` explicitly to suppress the warning\n",
      "  super()._check_params_vs_input(X, default_n_init=10)\n",
      "C:\\Users\\MYPC\\AppData\\Local\\Programs\\Python\\Python310\\lib\\site-packages\\sklearn\\cluster\\_kmeans.py:1416: FutureWarning: The default value of `n_init` will change from 10 to 'auto' in 1.4. Set the value of `n_init` explicitly to suppress the warning\n",
      "  super()._check_params_vs_input(X, default_n_init=10)\n",
      "C:\\Users\\MYPC\\AppData\\Local\\Programs\\Python\\Python310\\lib\\site-packages\\sklearn\\cluster\\_kmeans.py:1416: FutureWarning: The default value of `n_init` will change from 10 to 'auto' in 1.4. Set the value of `n_init` explicitly to suppress the warning\n",
      "  super()._check_params_vs_input(X, default_n_init=10)\n",
      "C:\\Users\\MYPC\\AppData\\Local\\Programs\\Python\\Python310\\lib\\site-packages\\sklearn\\cluster\\_kmeans.py:1416: FutureWarning: The default value of `n_init` will change from 10 to 'auto' in 1.4. Set the value of `n_init` explicitly to suppress the warning\n",
      "  super()._check_params_vs_input(X, default_n_init=10)\n",
      "C:\\Users\\MYPC\\AppData\\Local\\Programs\\Python\\Python310\\lib\\site-packages\\sklearn\\cluster\\_kmeans.py:1416: FutureWarning: The default value of `n_init` will change from 10 to 'auto' in 1.4. Set the value of `n_init` explicitly to suppress the warning\n",
      "  super()._check_params_vs_input(X, default_n_init=10)\n",
      "C:\\Users\\MYPC\\AppData\\Local\\Programs\\Python\\Python310\\lib\\site-packages\\sklearn\\cluster\\_kmeans.py:1416: FutureWarning: The default value of `n_init` will change from 10 to 'auto' in 1.4. Set the value of `n_init` explicitly to suppress the warning\n",
      "  super()._check_params_vs_input(X, default_n_init=10)\n",
      "C:\\Users\\MYPC\\AppData\\Local\\Programs\\Python\\Python310\\lib\\site-packages\\sklearn\\cluster\\_kmeans.py:1416: FutureWarning: The default value of `n_init` will change from 10 to 'auto' in 1.4. Set the value of `n_init` explicitly to suppress the warning\n",
      "  super()._check_params_vs_input(X, default_n_init=10)\n",
      "C:\\Users\\MYPC\\AppData\\Local\\Programs\\Python\\Python310\\lib\\site-packages\\sklearn\\cluster\\_kmeans.py:1416: FutureWarning: The default value of `n_init` will change from 10 to 'auto' in 1.4. Set the value of `n_init` explicitly to suppress the warning\n",
      "  super()._check_params_vs_input(X, default_n_init=10)\n",
      "C:\\Users\\MYPC\\AppData\\Local\\Programs\\Python\\Python310\\lib\\site-packages\\sklearn\\cluster\\_kmeans.py:1416: FutureWarning: The default value of `n_init` will change from 10 to 'auto' in 1.4. Set the value of `n_init` explicitly to suppress the warning\n",
      "  super()._check_params_vs_input(X, default_n_init=10)\n",
      "C:\\Users\\MYPC\\AppData\\Local\\Programs\\Python\\Python310\\lib\\site-packages\\sklearn\\cluster\\_kmeans.py:1416: FutureWarning: The default value of `n_init` will change from 10 to 'auto' in 1.4. Set the value of `n_init` explicitly to suppress the warning\n",
      "  super()._check_params_vs_input(X, default_n_init=10)\n",
      "C:\\Users\\MYPC\\AppData\\Local\\Programs\\Python\\Python310\\lib\\site-packages\\sklearn\\cluster\\_kmeans.py:1416: FutureWarning: The default value of `n_init` will change from 10 to 'auto' in 1.4. Set the value of `n_init` explicitly to suppress the warning\n",
      "  super()._check_params_vs_input(X, default_n_init=10)\n"
     ]
    }
   ],
   "source": [
    "from sklearn.metrics import silhouette_score\n",
    "silhouette_coefficients=[]\n",
    "for k in range(40,51):\n",
    "    kmeans=KMeans(n_clusters=k,init='k-means++')\n",
    "    kmeans.fit(df_train)\n",
    "    score=silhouette_score(df_train,kmeans.labels_)\n",
    "    silhouette_coefficients.append(score)"
   ]
  },
  {
   "cell_type": "markdown",
   "id": "fdf50923-ba7e-482e-906b-390769aad551",
   "metadata": {},
   "source": [
    "##### Graphical Representation of Silhouette Coefficients:"
   ]
  },
  {
   "cell_type": "code",
   "execution_count": 11,
   "id": "ee451f70-6d3c-461f-b910-139412533c50",
   "metadata": {},
   "outputs": [
    {
     "data": {
      "image/png": "[encoded data removed]",
      "text/plain": [
       "<Figure size 576x864 with 1 Axes>"
      ]
     },
     "metadata": {},
     "output_type": "display_data"
    }
   ],
   "source": [
    "plt.figure(figsize=(8,12))\n",
    "plt.scatter(range(40,51),silhouette_coefficients)\n",
    "plt.plot(range(40,51),silhouette_coefficients)\n",
    "plt.xticks(range(40,51))\n",
    "plt.xlabel('No of clusters')\n",
    "plt.ylabel('silhouette coefficients')\n",
    "plt.show()"
   ]
  },
  {
   "cell_type": "markdown",
   "id": "67da9cf5-8742-4965-b9f9-ad4cb9798b09",
   "metadata": {},
   "source": [
    "As 44 has the highest Silhouette score, hence the songs will be distributed under 44 different clusters:"
   ]
  },
  {
   "cell_type": "markdown",
   "id": "4664b913-1fe1-4be2-a4ed-2f5ffed4850c",
   "metadata": {},
   "source": [
    "#### Step 2.4: Creating labels for unlabelled data using KMeans algorithm:"
   ]
  },
  {
   "cell_type": "code",
   "execution_count": 12,
   "id": "4973fd41-e243-45f1-9ccd-de36b4cd5179",
   "metadata": {},
   "outputs": [
    {
     "name": "stderr",
     "output_type": "stream",
     "text": [
      "C:\\Users\\MYPC\\AppData\\Local\\Programs\\Python\\Python310\\lib\\site-packages\\sklearn\\cluster\\_kmeans.py:1416: FutureWarning: The default value of `n_init` will change from 10 to 'auto' in 1.4. Set the value of `n_init` explicitly to suppress the warning\n",
      "  super()._check_params_vs_input(X, default_n_init=10)\n"
     ]
    }
   ],
   "source": [
    "kmeans=KMeans(n_clusters=44,random_state=42)\n",
    "kmeans.fit(df_train)\n",
    "labels=kmeans.labels_\n",
    "df_train['Cluster_Labels']=labels"
   ]
  },
  {
   "cell_type": "code",
   "execution_count": 13,
   "id": "523214ee-ba01-4bba-8115-8fe08a63eddb",
   "metadata": {},
   "outputs": [
    {
     "data": {
      "text/html": [
       "<div>\n",
       "<style scoped>\n",
       "    .dataframe tbody tr th:only-of-type {\n",
       "        vertical-align: middle;\n",
       "    }\n",
       "\n",
       "    .dataframe tbody tr th {\n",
       "        vertical-align: top;\n",
       "    }\n",
       "\n",
       "    .dataframe thead th {\n",
       "        text-align: right;\n",
       "    }\n",
       "</style>\n",
       "<table border=\"1\" class=\"dataframe\">\n",
       "  <thead>\n",
       "    <tr style=\"text-align: right;\">\n",
       "      <th></th>\n",
       "      <th>popularity</th>\n",
       "      <th>danceability</th>\n",
       "      <th>energy</th>\n",
       "      <th>loudness</th>\n",
       "      <th>speechiness</th>\n",
       "      <th>acousticness</th>\n",
       "      <th>instrumentalness</th>\n",
       "      <th>liveness</th>\n",
       "      <th>valence</th>\n",
       "      <th>tempo</th>\n",
       "      <th>track_genre_num</th>\n",
       "      <th>Cluster_Labels</th>\n",
       "    </tr>\n",
       "  </thead>\n",
       "  <tbody>\n",
       "    <tr>\n",
       "      <th>0</th>\n",
       "      <td>77.0</td>\n",
       "      <td>52.205128</td>\n",
       "      <td>44.930905</td>\n",
       "      <td>80.496067</td>\n",
       "      <td>3.863636</td>\n",
       "      <td>0.714837</td>\n",
       "      <td>1.395112</td>\n",
       "      <td>23.511294</td>\n",
       "      <td>22.233400</td>\n",
       "      <td>64.472906</td>\n",
       "      <td>0.0</td>\n",
       "      <td>40</td>\n",
       "    </tr>\n",
       "    <tr>\n",
       "      <th>1</th>\n",
       "      <td>79.0</td>\n",
       "      <td>65.230769</td>\n",
       "      <td>67.801130</td>\n",
       "      <td>90.232635</td>\n",
       "      <td>2.846320</td>\n",
       "      <td>8.101459</td>\n",
       "      <td>0.000000</td>\n",
       "      <td>6.991786</td>\n",
       "      <td>27.464789</td>\n",
       "      <td>46.833654</td>\n",
       "      <td>0.0</td>\n",
       "      <td>40</td>\n",
       "    </tr>\n",
       "    <tr>\n",
       "      <th>2</th>\n",
       "      <td>76.0</td>\n",
       "      <td>58.769231</td>\n",
       "      <td>54.058933</td>\n",
       "      <td>83.957169</td>\n",
       "      <td>3.484848</td>\n",
       "      <td>1.625489</td>\n",
       "      <td>0.001181</td>\n",
       "      <td>9.240246</td>\n",
       "      <td>39.235412</td>\n",
       "      <td>30.821952</td>\n",
       "      <td>0.0</td>\n",
       "      <td>40</td>\n",
       "    </tr>\n",
       "    <tr>\n",
       "      <th>3</th>\n",
       "      <td>84.0</td>\n",
       "      <td>76.205128</td>\n",
       "      <td>44.730289</td>\n",
       "      <td>79.891974</td>\n",
       "      <td>7.391775</td>\n",
       "      <td>0.390536</td>\n",
       "      <td>12.016293</td>\n",
       "      <td>33.059548</td>\n",
       "      <td>27.967807</td>\n",
       "      <td>50.784807</td>\n",
       "      <td>0.0</td>\n",
       "      <td>40</td>\n",
       "    </tr>\n",
       "    <tr>\n",
       "      <th>4</th>\n",
       "      <td>76.0</td>\n",
       "      <td>58.666667</td>\n",
       "      <td>21.458831</td>\n",
       "      <td>61.371174</td>\n",
       "      <td>3.170996</td>\n",
       "      <td>65.160282</td>\n",
       "      <td>13.136456</td>\n",
       "      <td>11.293634</td>\n",
       "      <td>48.792757</td>\n",
       "      <td>39.257597</td>\n",
       "      <td>0.0</td>\n",
       "      <td>37</td>\n",
       "    </tr>\n",
       "  </tbody>\n",
       "</table>\n",
       "</div>"
      ],
      "text/plain": [
       "   popularity  danceability     energy   loudness  speechiness  acousticness  \\\n",
       "0        77.0     52.205128  44.930905  80.496067     3.863636      0.714837   \n",
       "1        79.0     65.230769  67.801130  90.232635     2.846320      8.101459   \n",
       "2        76.0     58.769231  54.058933  83.957169     3.484848      1.625489   \n",
       "3        84.0     76.205128  44.730289  79.891974     7.391775      0.390536   \n",
       "4        76.0     58.666667  21.458831  61.371174     3.170996     65.160282   \n",
       "\n",
       "   instrumentalness   liveness    valence      tempo  track_genre_num  \\\n",
       "0          1.395112  23.511294  22.233400  64.472906              0.0   \n",
       "1          0.000000   6.991786  27.464789  46.833654              0.0   \n",
       "2          0.001181   9.240246  39.235412  30.821952              0.0   \n",
       "3         12.016293  33.059548  27.967807  50.784807              0.0   \n",
       "4         13.136456  11.293634  48.792757  39.257597              0.0   \n",
       "\n",
       "   Cluster_Labels  \n",
       "0              40  \n",
       "1              40  \n",
       "2              40  \n",
       "3              40  \n",
       "4              37  "
      ]
     },
     "execution_count": 13,
     "metadata": {},
     "output_type": "execute_result"
    }
   ],
   "source": [
    "df_train.head()"
   ]
  },
  {
   "cell_type": "markdown",
   "id": "37a1ac27-57c7-406c-bab5-c027e97432e0",
   "metadata": {},
   "source": [
    "##### Checking whether the instances are clustered under 44 different clusters or not:"
   ]
  },
  {
   "cell_type": "code",
   "execution_count": 14,
   "id": "fc7cbe45-498e-4103-b39a-1b7bf1ced0ba",
   "metadata": {
    "scrolled": true
   },
   "outputs": [
    {
     "data": {
      "text/plain": [
       "44"
      ]
     },
     "execution_count": 14,
     "metadata": {},
     "output_type": "execute_result"
    }
   ],
   "source": [
    "len(df_train['Cluster_Labels'].value_counts())"
   ]
  },
  {
   "cell_type": "code",
   "execution_count": 15,
   "id": "edda331f-ed57-4f42-936b-72827738cda1",
   "metadata": {},
   "outputs": [
    {
     "data": {
      "text/plain": [
       "24    444\n",
       "3     363\n",
       "13    363\n",
       "27    349\n",
       "36    348\n",
       "29    333\n",
       "16    328\n",
       "19    328\n",
       "41    313\n",
       "11    308\n",
       "23    307\n",
       "33    305\n",
       "6     281\n",
       "20    275\n",
       "26    252\n",
       "0     245\n",
       "39    242\n",
       "18    238\n",
       "40    235\n",
       "9     234\n",
       "5     232\n",
       "22    224\n",
       "2     219\n",
       "10    214\n",
       "14    201\n",
       "12    197\n",
       "34    192\n",
       "8     186\n",
       "43    186\n",
       "37    182\n",
       "35    181\n",
       "42    175\n",
       "28    173\n",
       "1     168\n",
       "31    166\n",
       "21    165\n",
       "30    164\n",
       "15    147\n",
       "32    117\n",
       "7     107\n",
       "4      92\n",
       "17     87\n",
       "38     72\n",
       "25     62\n",
       "Name: Cluster_Labels, dtype: int64"
      ]
     },
     "execution_count": 15,
     "metadata": {},
     "output_type": "execute_result"
    }
   ],
   "source": [
    "df_train['Cluster_Labels'].value_counts()"
   ]
  },
  {
   "cell_type": "markdown",
   "id": "651f930a-70af-42ad-bb09-dad5d585c9e5",
   "metadata": {},
   "source": [
    "##### Finalizing data labels:"
   ]
  },
  {
   "cell_type": "code",
   "execution_count": 16,
   "id": "b48ec4be-609d-4607-9f3f-d0c5ff19985e",
   "metadata": {},
   "outputs": [
    {
     "data": {
      "text/html": [
       "<div>\n",
       "<style scoped>\n",
       "    .dataframe tbody tr th:only-of-type {\n",
       "        vertical-align: middle;\n",
       "    }\n",
       "\n",
       "    .dataframe tbody tr th {\n",
       "        vertical-align: top;\n",
       "    }\n",
       "\n",
       "    .dataframe thead th {\n",
       "        text-align: right;\n",
       "    }\n",
       "</style>\n",
       "<table border=\"1\" class=\"dataframe\">\n",
       "  <thead>\n",
       "    <tr style=\"text-align: right;\">\n",
       "      <th></th>\n",
       "      <th>track_id</th>\n",
       "      <th>track_name</th>\n",
       "      <th>track_genre</th>\n",
       "      <th>popularity</th>\n",
       "      <th>danceability</th>\n",
       "      <th>energy</th>\n",
       "      <th>loudness</th>\n",
       "      <th>speechiness</th>\n",
       "      <th>acousticness</th>\n",
       "      <th>instrumentalness</th>\n",
       "      <th>liveness</th>\n",
       "      <th>valence</th>\n",
       "      <th>tempo</th>\n",
       "      <th>track_genre_num</th>\n",
       "      <th>Cluster_Labels</th>\n",
       "    </tr>\n",
       "  </thead>\n",
       "  <tbody>\n",
       "    <tr>\n",
       "      <th>0</th>\n",
       "      <td>0</td>\n",
       "      <td>I See Red - 0</td>\n",
       "      <td>blues</td>\n",
       "      <td>77.0</td>\n",
       "      <td>52.205128</td>\n",
       "      <td>44.930905</td>\n",
       "      <td>80.496067</td>\n",
       "      <td>3.863636</td>\n",
       "      <td>0.714837</td>\n",
       "      <td>1.395112</td>\n",
       "      <td>23.511294</td>\n",
       "      <td>22.233400</td>\n",
       "      <td>64.472906</td>\n",
       "      <td>0.0</td>\n",
       "      <td>40</td>\n",
       "    </tr>\n",
       "    <tr>\n",
       "      <th>1</th>\n",
       "      <td>1</td>\n",
       "      <td>Cigarette Daydreams - 1</td>\n",
       "      <td>blues</td>\n",
       "      <td>79.0</td>\n",
       "      <td>65.230769</td>\n",
       "      <td>67.801130</td>\n",
       "      <td>90.232635</td>\n",
       "      <td>2.846320</td>\n",
       "      <td>8.101459</td>\n",
       "      <td>0.000000</td>\n",
       "      <td>6.991786</td>\n",
       "      <td>27.464789</td>\n",
       "      <td>46.833654</td>\n",
       "      <td>0.0</td>\n",
       "      <td>40</td>\n",
       "    </tr>\n",
       "    <tr>\n",
       "      <th>2</th>\n",
       "      <td>2</td>\n",
       "      <td>Play with Fire (feat. Yacht Money) - 2</td>\n",
       "      <td>blues</td>\n",
       "      <td>76.0</td>\n",
       "      <td>58.769231</td>\n",
       "      <td>54.058933</td>\n",
       "      <td>83.957169</td>\n",
       "      <td>3.484848</td>\n",
       "      <td>1.625489</td>\n",
       "      <td>0.001181</td>\n",
       "      <td>9.240246</td>\n",
       "      <td>39.235412</td>\n",
       "      <td>30.821952</td>\n",
       "      <td>0.0</td>\n",
       "      <td>40</td>\n",
       "    </tr>\n",
       "    <tr>\n",
       "      <th>3</th>\n",
       "      <td>3</td>\n",
       "      <td>Seven Nation Army - 3</td>\n",
       "      <td>blues</td>\n",
       "      <td>84.0</td>\n",
       "      <td>76.205128</td>\n",
       "      <td>44.730289</td>\n",
       "      <td>79.891974</td>\n",
       "      <td>7.391775</td>\n",
       "      <td>0.390536</td>\n",
       "      <td>12.016293</td>\n",
       "      <td>33.059548</td>\n",
       "      <td>27.967807</td>\n",
       "      <td>50.784807</td>\n",
       "      <td>0.0</td>\n",
       "      <td>40</td>\n",
       "    </tr>\n",
       "    <tr>\n",
       "      <th>4</th>\n",
       "      <td>4</td>\n",
       "      <td>Wonderful Tonight - 4</td>\n",
       "      <td>blues</td>\n",
       "      <td>76.0</td>\n",
       "      <td>58.666667</td>\n",
       "      <td>21.458831</td>\n",
       "      <td>61.371174</td>\n",
       "      <td>3.170996</td>\n",
       "      <td>65.160282</td>\n",
       "      <td>13.136456</td>\n",
       "      <td>11.293634</td>\n",
       "      <td>48.792757</td>\n",
       "      <td>39.257597</td>\n",
       "      <td>0.0</td>\n",
       "      <td>37</td>\n",
       "    </tr>\n",
       "  </tbody>\n",
       "</table>\n",
       "</div>"
      ],
      "text/plain": [
       "   track_id                              track_name track_genre  popularity  \\\n",
       "0         0                           I See Red - 0       blues        77.0   \n",
       "1         1                 Cigarette Daydreams - 1       blues        79.0   \n",
       "2         2  Play with Fire (feat. Yacht Money) - 2       blues        76.0   \n",
       "3         3                   Seven Nation Army - 3       blues        84.0   \n",
       "4         4                   Wonderful Tonight - 4       blues        76.0   \n",
       "\n",
       "   danceability     energy   loudness  speechiness  acousticness  \\\n",
       "0     52.205128  44.930905  80.496067     3.863636      0.714837   \n",
       "1     65.230769  67.801130  90.232635     2.846320      8.101459   \n",
       "2     58.769231  54.058933  83.957169     3.484848      1.625489   \n",
       "3     76.205128  44.730289  79.891974     7.391775      0.390536   \n",
       "4     58.666667  21.458831  61.371174     3.170996     65.160282   \n",
       "\n",
       "   instrumentalness   liveness    valence      tempo  track_genre_num  \\\n",
       "0          1.395112  23.511294  22.233400  64.472906              0.0   \n",
       "1          0.000000   6.991786  27.464789  46.833654              0.0   \n",
       "2          0.001181   9.240246  39.235412  30.821952              0.0   \n",
       "3         12.016293  33.059548  27.967807  50.784807              0.0   \n",
       "4         13.136456  11.293634  48.792757  39.257597              0.0   \n",
       "\n",
       "   Cluster_Labels  \n",
       "0              40  \n",
       "1              40  \n",
       "2              40  \n",
       "3              40  \n",
       "4              37  "
      ]
     },
     "execution_count": 16,
     "metadata": {},
     "output_type": "execute_result"
    }
   ],
   "source": [
    "df=pd.concat([df_meta,df_train],axis=1)\n",
    "df.head()"
   ]
  },
  {
   "cell_type": "code",
   "execution_count": 17,
   "id": "24508223-cabc-4b6e-85dd-ddcac17fd5b3",
   "metadata": {},
   "outputs": [
    {
     "data": {
      "text/plain": [
       "(10000, 15)"
      ]
     },
     "execution_count": 17,
     "metadata": {},
     "output_type": "execute_result"
    }
   ],
   "source": [
    "df.shape"
   ]
  },
  {
   "cell_type": "markdown",
   "id": "0ef2fea2-a524-4974-a7ce-cd46b1530254",
   "metadata": {},
   "source": [
    "## Machine Learning Tasks:"
   ]
  },
  {
   "cell_type": "code",
   "execution_count": null,
   "id": "af01c4e4-0efe-47f7-89bf-a3d7dd2fce6f",
   "metadata": {},
   "outputs": [],
   "source": [
    "### Step"
   ]
  }
 ],
 "metadata": {
  "kernelspec": {
   "display_name": "Python 3 (ipykernel)",
   "language": "python",
   "name": "python3"
  },
  "language_info": {
   "codemirror_mode": {
    "name": "ipython",
    "version": 3
   },
   "file_extension": ".py",
   "mimetype": "text/x-python",
   "name": "python",
   "nbconvert_exporter": "python",
   "pygments_lexer": "ipython3",
   "version": "3.10.0"
  }
 },
 "nbformat": 4,
 "nbformat_minor": 5
}
